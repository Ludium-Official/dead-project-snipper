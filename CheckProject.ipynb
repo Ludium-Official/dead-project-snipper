{
 "cells": [
  {
   "cell_type": "code",
   "execution_count": 45,
   "metadata": {},
   "outputs": [],
   "source": [
    "from langchain import LLMChain, PromptTemplate\n",
    "from langchain.llms import OpenAI\n",
    "from langchain_openai import ChatOpenAI\n",
    "from langchain_core.messages import HumanMessage, SystemMessage\n",
    "from langchain_core.prompts import ChatPromptTemplate\n",
    "from langchain_core.output_parsers import StrOutputParser\n",
    "\n",
    "import psycopg2 as pg\n",
    "import os\n",
    "\n",
    "\n",
    "with open('open_api_key.txt', 'r') as f:\n",
    "    openai_key = f.read().strip()\n",
    "\n",
    "#모델, 아웃풋 파싱 준비\n",
    "model = ChatOpenAI(model=\"gpt-4\", api_key=openai_key)\n",
    "parser = StrOutputParser()"
   ]
  },
  {
   "cell_type": "markdown",
   "metadata": {},
   "source": [
    "# Get Activity From Github, X, and Mainnet \n",
    "B0 ~ B7 on Diagram"
   ]
  },
  {
   "cell_type": "code",
   "execution_count": 48,
   "metadata": {},
   "outputs": [],
   "source": [
    "# to take the github repo data\n",
    "import requests\n",
    "from datetime import datetime, timedelta\n",
    "from pprint import pprint\n",
    "import json\n",
    "import psycopg2 as pg\n",
    "from psycopg2 import sql\n",
    "\n",
    "def github_api_request(owner, repo, endpoint, params={}):\n",
    "    if endpoint:\n",
    "        base_url = f'https://api.github.com/repos/{owner}/{repo}/{endpoint}'\n",
    "    else:\n",
    "        base_url = f'https://api.github.com/repos/{owner}/{repo}'\n",
    "    response = requests.get(base_url, params=params)\n",
    "    return response.json()\n",
    "\n",
    "def count_commits(owner, repo, params={}):\n",
    "    commits = github_api_request(owner, repo, 'commits', params)\n",
    "    return len(commits)\n",
    "\n",
    "def count_issues(owner, repo, params={}):\n",
    "    issues_data = github_api_request(owner, repo, 'issues', params)\n",
    "    issue_count = len([issue for issue in issues_data if 'pull_request' not in issue])\n",
    "    return issue_count\n",
    "\n",
    "def count_pull_requests(owner, repo, params={}):\n",
    "    pulls = github_api_request(owner, repo, 'pulls', params)\n",
    "    return len(pulls)\n",
    "\n",
    "def count_watcher(owner, repo, parmas={}):\n",
    "    repo = github_api_request(owner, repo, '')\n",
    "    # pprint(repo)\n",
    "    return repo['watchers_count']\n",
    "\n",
    "def connect_to_db(host, port, user, passwd):\n",
    "    conn = pg.connect(\n",
    "        host=host,\n",
    "        port=port,\n",
    "        database='your_database',\n",
    "        user=user,\n",
    "        password=passwd\n",
    "    )\n",
    "    return conn\n",
    "\n",
    "\n",
    "def insert_to_db(conn, table : str, data : dict):\n",
    "\n",
    "    cur = conn.cursor()\n",
    "    insert_query = sql.SQL(\"INSERT INTO {table} ({columns}) VALUES ({values})\").format(\n",
    "        table=sql.Identifier(table),\n",
    "        columns=sql.SQL(', ').join(map(sql.Identifier, data.keys())),\n",
    "        values=sql.SQL(', ').join(map(sql.Literal, data.values()))\n",
    "    )\n",
    "    cur.execute(insert_query)\n",
    "    conn.commit()\n",
    "    cur.close()"
   ]
  },
  {
   "cell_type": "markdown",
   "metadata": {},
   "source": [
    "# Scoring Algorithm(s)\n",
    "Counts Activity. Currently Measured Daily. "
   ]
  },
  {
   "cell_type": "code",
   "execution_count": 49,
   "metadata": {},
   "outputs": [
    {
     "name": "stdout",
     "output_type": "stream",
     "text": [
      "Commits in the last day: 0\n",
      "Issues in the last day: 19\n",
      "Pull Requests in the last day: 30\n",
      "Watchers in the last day: 0\n"
     ]
    }
   ],
   "source": [
    "# set the owner and repo\n",
    "owner = 'octocat'\n",
    "repo = 'Hello-World'\n",
    "\n",
    "# get the diff between today and month\n",
    "today = datetime.utcnow()\n",
    "last_month = today - timedelta(days=30)\n",
    "\n",
    "# change the datetime foramt as ISO 8601\n",
    "since = last_month.isoformat() + 'Z'\n",
    "until = today.isoformat() + 'Z'\n",
    "\n",
    "# request the number of Commits\n",
    "params = {'since': since, 'until': until}\n",
    "commit_count = count_commits(owner, repo, params)\n",
    "print(f\"Commits in the last day: {commit_count}\")\n",
    "\n",
    "# request the number of Issues\n",
    "issue_count = count_issues(owner, repo, params)\n",
    "print(f\"Issues in the last day: {issue_count}\")\n",
    "\n",
    "# request the number of Pull Requests\n",
    "pull_count = count_pull_requests(owner, repo, params)\n",
    "print(f\"Pull Requests in the last day: {pull_count}\")\n",
    "\n",
    "# request the number of Watchers\n",
    "\n",
    "before_month_watcher_params = {\"since\": since, \"until\": since}\n",
    "before_month_watcher_count = count_watcher(owner, repo, before_month_watcher_params)\n",
    "\n",
    "after_month_watcher_params = {\"since\": until, \"until\": until}\n",
    "after_month_watcher_count = count_watcher(owner, repo, after_month_watcher_params)\n",
    "\n",
    "watcher_diff = after_month_watcher_count - before_month_watcher_count\n",
    "print(f\"Watchers in the last day: {watcher_diff}\")"
   ]
  },
  {
   "cell_type": "markdown",
   "metadata": {},
   "source": [
    "# Beginning - SME's tweaking"
   ]
  },
  {
   "cell_type": "markdown",
   "metadata": {},
   "source": [
    "# Rule Based Classification; LLM-As a Judge Prompt \n",
    "Based on the Activity, now we judge if project is dying. \n",
    "You can change the threshold in prompt, 'system_template'."
   ]
  },
  {
   "cell_type": "code",
   "execution_count": 42,
   "metadata": {},
   "outputs": [],
   "source": [
    "system_template = \"\"\"\n",
    "You should rate the project based on the following criteria, \n",
    "but at this time, only the github information will be suggested. \n",
    "and if the score is less than 15, you should consider the project as dead.\n",
    "Unless, you should consider the project as alive.\n",
    "and you should make the report based on your own opinion for the project. \n",
    ":\n",
    "\n",
    "### scoring criteria\n",
    "\n",
    "1. GitHub Score (30 points total)\n",
    "\n",
    "Frequency of commits:\n",
    "\n",
    "- more than 20 commits within last month : 12 points\n",
    "- more than 10 commits within last month  : 9 points\n",
    "- Less than three commits within last month: 3 points\n",
    "- No commits for more than 1 months: 0 points\n",
    "\n",
    "Number of increased watchers:\n",
    "\n",
    "- 5 or more increased : 9 points\n",
    "- 3-4 increased : 6 points\n",
    "- 1-2 increased : 3 points\n",
    "- Not increased : 0 points\n",
    "\n",
    "Issues and pull request activity:\n",
    "\n",
    "- Frequent activity (discussions, quick resolutions within 1-2 weeks): 9 points\n",
    "- Moderate activity (some unresolved issues, resolutions taking longer): 6 points\n",
    "- Minimal activity (many unresolved issues, responses taking months): 3 points\n",
    "- No issue or pull request activity: 0 points\n",
    "\n",
    "### data\n",
    "{data}\n",
    "\"\"\"\n",
    "\n",
    "data_input = f\"\"\"\n",
    "commits in last month: {commit_count}\n",
    "issues in last month: {issue_count}\n",
    "pull request activity: {pull_count}\n",
    "increased watchers: {watcher_diff}\n",
    "\n",
    "\"\"\"\n",
    "\n",
    "prompt_template = ChatPromptTemplate.from_messages(\n",
    "    [(\"system\", system_template), (\"user\", \"{data}\")]\n",
    ")\n",
    "chain = prompt_template | model | parser"
   ]
  },
  {
   "cell_type": "markdown",
   "metadata": {},
   "source": [
    "Execute below to see evaluation results. "
   ]
  },
  {
   "cell_type": "code",
   "execution_count": 51,
   "metadata": {},
   "outputs": [
    {
     "name": "stdout",
     "output_type": "stream",
     "text": [
      "Based on the given data, I would score the project as follows:\n",
      "\n",
      "Frequency of commits: No commits for more than 1 month, so 0 points.\n",
      "\n",
      "Number of increased watchers: No increased watchers, so 0 points.\n",
      "\n",
      "Issues and pull request activity: Given the number of issues and pull request activity, it seems there is frequent activity. However, without knowing the speed of resolution, it's difficult to accurately score this. If we assume quick resolutions, this would be 9 points. \n",
      "\n",
      "Therefore, the total GitHub score for this project is 9 points. Since this score is less than 15, I would consider the project as dead. However, the high degree of issues and pull request activity does suggest that there may still be interest and activity within the project, so it might be worth investigating further before making a final decision.\n"
     ]
    }
   ],
   "source": [
    "result = chain.invoke({\"data\": data_input})\n",
    "print(result)"
   ]
  },
  {
   "cell_type": "markdown",
   "metadata": {},
   "source": [
    "# Suggested Evaluation Threshold for Rule based approach: \n",
    "Based on \n",
    "- Data on average commit counts and contributor distributions are derived from **studies on GitHub’s public repositories**, including blockchain-specific projects.\n",
    "- Social media engagement metrics are based on **typical ranges observed in crypto community analytics and social media benchmarking reports**.\n",
    "- Mainnet transaction volumes and active address counts were informed by blockchain analytics from mid-tier to popular blockchain projects, as observed in platforms like Etherscan, Dune Analytics, and other blockchain explorer data\n",
    "\n",
    "\n",
    "1. Github Metrics: \n",
    "Commit Frequency Thresholds:\n",
    "\n",
    "High (> 50 commits/month): Projects with consistent, high commit rates are typically under active development. According to data on open-source repositories, the median commit count per month for actively maintained repositories is around 50 commits. Blockchain projects that surpass this are considered highly active.\n",
    "Moderate (20-50 commits/month): This range captures projects that are steadily maintained but might not be under intense development. The 20-50 range represents the interquartile range for many active blockchain projects.\n",
    "Low (< 20 commits/month): Projects with fewer than 20 commits per month are often in maintenance mode or seeing reduced activity. This threshold aligns with the lower quartile of commit activity seen across many GitHub repositories.\n",
    "Contributor Count Thresholds:\n",
    "\n",
    "High (> 10 contributors): Active blockchain projects often involve multiple developers. Data from open-source software (OSS) projects indicates that successful and actively maintained projects usually have at least 10 contributors.\n",
    "Moderate (5-10 contributors): This range represents moderately collaborative projects, still maintaining sufficient contributor engagement.\n",
    "Low (< 5 contributors): Projects with fewer than 5 active contributors often indicate limited engagement, which is common in smaller or declining projects.\n",
    "\n",
    "Issue and Pull Request Management Thresholds:\n",
    "\n",
    "High Responsiveness (80%+ resolved in 30 days): A study on OSS repositories shows that well-maintained projects resolve the majority of issues quickly, with 80% or more closed within a month.\n",
    "Moderate Responsiveness (50-80% resolved): Represents adequate maintenance; still actively managed but not as promptly.\n",
    "Low Responsiveness (< 50% resolved): Slow resolution rates often signify stalled or struggling projects.\n",
    "Forks and Stars:\n",
    "\n",
    "Growing, stable, and declining trends are based on changes observed over a 6-month period, with active projects generally showing a steady increase in forks and stars as proxies for interest and adoption.\n",
    "\n",
    "2. Social Media (X/Twitter) Metrics:\n",
    "\n",
    "Engagement Metrics:\n",
    "\n",
    "High (> 1000 engagements/month): Top-performing blockchain projects tend to have high visibility, with notable engagement rates. For active blockchain projects, 1000 engagements per month (including likes, retweets, replies) represents a strong level of community interaction.\n",
    "Moderate (500-1000 engagements/month): Reflects decent engagement and a still-active community.\n",
    "Low (< 500 engagements/month): Often indicates limited reach or waning interest, common for smaller or less visible projects.\n",
    "\n",
    "Sentiment Analysis:\n",
    "\n",
    "Positive (> 0.3 average score): Sentiment analysis tools classify above 0.3 as generally positive, which is typical for thriving communities.\n",
    "Neutral (-0.3 to 0.3): Mixed or balanced sentiment is indicative of a stable but not overly enthusiastic community.\n",
    "Negative (< -0.3): Projects facing issues often attract negative sentiment, which can be a sign of underlying problems.\n",
    "\n",
    "Follower Growth:\n",
    "\n",
    "High Growth (> 5%/month): Reflects growing popularity and increasing community size, aligned with successful projects.\n",
    "Moderate Growth (1-5%/month): Indicates steady growth, sufficient to suggest ongoing interest.\n",
    "Low Growth (< 1%/month): Stagnant or declining follower counts can indicate declining project momentum.\n",
    "\n",
    "3. Mainnet Transactions and On-Chain Activity Metrics:\n",
    "\n",
    "Mainnet Transaction Volume: \n",
    "\n",
    "High (> 10,000 transactions/month): For blockchain projects with active usage, this figure represents the average seen in mid-tier blockchain networks. Larger projects often exceed this by a significant margin.\n",
    "Moderate (5,000-10,000 transactions/month): This range captures moderate usage levels, typical for projects with a specific niche or less frequent interactions.\n",
    "Low (< 5,000 transactions/month): Projects with fewer than 5,000 transactions per month are generally underused, often seen in struggling or less-adopted networks.\n",
    "\n",
    "Active Addresses:\n",
    "\n",
    "High (> 2,000 addresses/month): Represents a healthy user base engaging with the blockchain, as seen in moderately successful blockchain ecosystems.\n",
    "Moderate (1,000-2,000 addresses/month): Indicates moderate engagement, sufficient to maintain activity but not indicative of high growth.\n",
    "Low (< 1,000 addresses/month): Common in smaller or declining networks, signaling reduced user interaction.\n",
    "Token Circulation and Transfers:\n",
    "\n",
    "High (> 20,000 transfers/month): High token movement suggests active trading or usage within the ecosystem.\n",
    "Moderate (10,000-20,000 transfers/month): Indicates ongoing but not extensive token usage.\n",
    "Low (< 10,000 transfers/month): Often reflects a lack of user engagement or low network activity.\n"
   ]
  },
  {
   "cell_type": "markdown",
   "metadata": {},
   "source": [
    "# Individual Project 조회 Dashboard"
   ]
  },
  {
   "cell_type": "markdown",
   "metadata": {},
   "source": [
    "# Inference Evaluation for Rule Based Classification\n",
    "How Well does model perform? Compare y and y'\n",
    "(실 데이터가 갖추어진 뒤 실행)"
   ]
  },
  {
   "cell_type": "markdown",
   "metadata": {},
   "source": [
    "# Suggest Analysis 1 "
   ]
  },
  {
   "cell_type": "markdown",
   "metadata": {},
   "source": [
    "# Benchmarking Against Competitors: \n",
    "Compare the project’s metrics with those of similar projects or competitors to contextualize the performance. \n",
    "It might be "
   ]
  },
  {
   "cell_type": "markdown",
   "metadata": {},
   "source": [
    "# Historical Trend Analysis\n",
    "Time series Analysis\n",
    "\n"
   ]
  },
  {
   "cell_type": "code",
   "execution_count": null,
   "metadata": {},
   "outputs": [],
   "source": [
    "deleteThis = \"hello world\""
   ]
  }
 ],
 "metadata": {
  "kernelspec": {
   "display_name": "Python 3",
   "language": "python",
   "name": "python3"
  },
  "language_info": {
   "codemirror_mode": {
    "name": "ipython",
    "version": 3
   },
   "file_extension": ".py",
   "mimetype": "text/x-python",
   "name": "python",
   "nbconvert_exporter": "python",
   "pygments_lexer": "ipython3",
   "version": "3.11.9"
  }
 },
 "nbformat": 4,
 "nbformat_minor": 2
}
