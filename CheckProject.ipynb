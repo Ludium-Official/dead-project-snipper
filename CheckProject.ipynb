{
 "cells": [
  {
   "cell_type": "code",
   "execution_count": 45,
   "metadata": {},
   "outputs": [],
   "source": [
    "from langchain import LLMChain, PromptTemplate\n",
    "from langchain.llms import OpenAI\n",
    "from langchain_openai import ChatOpenAI\n",
    "from langchain_core.messages import HumanMessage, SystemMessage\n",
    "from langchain_core.prompts import ChatPromptTemplate\n",
    "\n",
    "import psycopg2 as pg\n",
    "import os\n",
    "\n",
    "\n",
    "with open('open_api_key.txt', 'r') as f:\n",
    "    openai_key = f.read().strip()"
   ]
  },
  {
   "cell_type": "code",
   "execution_count": 46,
   "metadata": {},
   "outputs": [],
   "source": [
    "model = ChatOpenAI(model=\"gpt-4\", api_key=openai_key)\n"
   ]
  },
  {
   "cell_type": "code",
   "execution_count": 47,
   "metadata": {},
   "outputs": [],
   "source": [
    "from langchain_core.output_parsers import StrOutputParser\n",
    "\n",
    "parser = StrOutputParser()"
   ]
  },
  {
   "cell_type": "code",
   "execution_count": 48,
   "metadata": {},
   "outputs": [],
   "source": [
    "# to take the github repo data\n",
    "import requests\n",
    "from datetime import datetime, timedelta\n",
    "from pprint import pprint\n",
    "import json\n",
    "import psycopg2 as pg\n",
    "from psycopg2 import sql\n",
    "\n",
    "def github_api_request(owner, repo, endpoint, params={}):\n",
    "    if endpoint:\n",
    "        base_url = f'https://api.github.com/repos/{owner}/{repo}/{endpoint}'\n",
    "    else:\n",
    "        base_url = f'https://api.github.com/repos/{owner}/{repo}'\n",
    "    response = requests.get(base_url, params=params)\n",
    "    return response.json()\n",
    "\n",
    "def count_commits(owner, repo, params={}):\n",
    "    commits = github_api_request(owner, repo, 'commits', params)\n",
    "    return len(commits)\n",
    "\n",
    "def count_issues(owner, repo, params={}):\n",
    "    issues_data = github_api_request(owner, repo, 'issues', params)\n",
    "    issue_count = len([issue for issue in issues_data if 'pull_request' not in issue])\n",
    "    return issue_count\n",
    "\n",
    "def count_pull_requests(owner, repo, params={}):\n",
    "    pulls = github_api_request(owner, repo, 'pulls', params)\n",
    "    return len(pulls)\n",
    "\n",
    "def count_watcher(owner, repo, parmas={}):\n",
    "    repo = github_api_request(owner, repo, '')\n",
    "    # pprint(repo)\n",
    "    return repo['watchers_count']\n",
    "\n",
    "def connect_to_db(host, port, user, passwd):\n",
    "    conn = pg.connect(\n",
    "        host=host,\n",
    "        port=port,\n",
    "        database='your_database',\n",
    "        user=user,\n",
    "        password=passwd\n",
    "    )\n",
    "    return conn\n",
    "\n",
    "\n",
    "def insert_to_db(conn, table : str, data : dict):\n",
    "\n",
    "    cur = conn.cursor()\n",
    "    insert_query = sql.SQL(\"INSERT INTO {table} ({columns}) VALUES ({values})\").format(\n",
    "        table=sql.Identifier(table),\n",
    "        columns=sql.SQL(', ').join(map(sql.Identifier, data.keys())),\n",
    "        values=sql.SQL(', ').join(map(sql.Literal, data.values()))\n",
    "    )\n",
    "    cur.execute(insert_query)\n",
    "    conn.commit()\n",
    "    cur.close()"
   ]
  },
  {
   "cell_type": "code",
   "execution_count": 49,
   "metadata": {},
   "outputs": [
    {
     "name": "stdout",
     "output_type": "stream",
     "text": [
      "Commits in the last day: 0\n",
      "Issues in the last day: 19\n",
      "Pull Requests in the last day: 30\n",
      "Watchers in the last day: 0\n"
     ]
    }
   ],
   "source": [
    "# set the owner and repo\n",
    "owner = 'octocat'\n",
    "repo = 'Hello-World'\n",
    "\n",
    "# get the diff between today and month\n",
    "today = datetime.utcnow()\n",
    "last_month = today - timedelta(days=30)\n",
    "\n",
    "# change the datetime foramt as ISO 8601\n",
    "since = last_month.isoformat() + 'Z'\n",
    "until = today.isoformat() + 'Z'\n",
    "\n",
    "# request the number of Commits\n",
    "params = {'since': since, 'until': until}\n",
    "commit_count = count_commits(owner, repo, params)\n",
    "print(f\"Commits in the last day: {commit_count}\")\n",
    "\n",
    "# request the number of Issues\n",
    "issue_count = count_issues(owner, repo, params)\n",
    "print(f\"Issues in the last day: {issue_count}\")\n",
    "\n",
    "# request the number of Pull Requests\n",
    "pull_count = count_pull_requests(owner, repo, params)\n",
    "print(f\"Pull Requests in the last day: {pull_count}\")\n",
    "\n",
    "# request the number of Watchers\n",
    "\n",
    "before_month_watcher_params = {\"since\": since, \"until\": since}\n",
    "before_month_watcher_count = count_watcher(owner, repo, before_month_watcher_params)\n",
    "\n",
    "after_month_watcher_params = {\"since\": until, \"until\": until}\n",
    "after_month_watcher_count = count_watcher(owner, repo, after_month_watcher_params)\n",
    "\n",
    "watcher_diff = after_month_watcher_count - before_month_watcher_count\n",
    "print(f\"Watchers in the last day: {watcher_diff}\")"
   ]
  },
  {
   "cell_type": "code",
   "execution_count": 42,
   "metadata": {},
   "outputs": [],
   "source": [
    "system_template = \"\"\"\n",
    "You should rate the project based on the following criteria, \n",
    "but at this time, only the github information will be suggested. \n",
    "and if the socre is less than 15, you should consider the project as dead.\n",
    "Unless, you should consider the project as alive.\n",
    "and you should make the report based on your own opinion for the project. \n",
    ":\n",
    "\n",
    "### scoring criteria\n",
    "\n",
    "1. GitHub Score (30 points total)\n",
    "\n",
    "Frequency of commits:\n",
    "\n",
    "- more than 20 commits within last month : 12 points\n",
    "- more than 10 commits within last month  : 9 points\n",
    "- Less than three commits within last month: 3 points\n",
    "- No commits for more than 1 months: 0 points\n",
    "\n",
    "Number of increased watchers:\n",
    "\n",
    "- 5 or more increased : 9 points\n",
    "- 3-4 increased : 6 points\n",
    "- 1-2 increased : 3 points\n",
    "- Not increased : 0 points\n",
    "\n",
    "Issues and pull request activity:\n",
    "\n",
    "- Frequent activity (discussions, quick resolutions within 1-2 weeks): 9 points\n",
    "- Moderate activity (some unresolved issues, resolutions taking longer): 6 points\n",
    "- Minimal activity (many unresolved issues, responses taking months): 3 points\n",
    "- No issue or pull request activity: 0 points\n",
    "\n",
    "### data\n",
    "{data}\n",
    "\"\"\"\n",
    "\n",
    "data_input = f\"\"\"\n",
    "commits in last month: {commit_count}\n",
    "issues in last month: {issue_count}\n",
    "pull request activity: {pull_count}\n",
    "increased watchers: {watcher_diff}\n",
    "\n",
    "\"\"\"\n",
    "\n",
    "prompt_template = ChatPromptTemplate.from_messages(\n",
    "    [(\"system\", system_template), (\"user\", \"{data}\")]\n",
    ")"
   ]
  },
  {
   "cell_type": "code",
   "execution_count": 50,
   "metadata": {},
   "outputs": [],
   "source": [
    "chain = prompt_template | model | parser\n",
    "\n",
    "result = chain.invoke({\"data\": data_input})"
   ]
  },
  {
   "cell_type": "code",
   "execution_count": 51,
   "metadata": {},
   "outputs": [
    {
     "name": "stdout",
     "output_type": "stream",
     "text": [
      "Based on the given data, I would score the project as follows:\n",
      "\n",
      "Frequency of commits: No commits for more than 1 month, so 0 points.\n",
      "\n",
      "Number of increased watchers: No increased watchers, so 0 points.\n",
      "\n",
      "Issues and pull request activity: Given the number of issues and pull request activity, it seems there is frequent activity. However, without knowing the speed of resolution, it's difficult to accurately score this. If we assume quick resolutions, this would be 9 points. \n",
      "\n",
      "Therefore, the total GitHub score for this project is 9 points. Since this score is less than 15, I would consider the project as dead. However, the high degree of issues and pull request activity does suggest that there may still be interest and activity within the project, so it might be worth investigating further before making a final decision.\n"
     ]
    }
   ],
   "source": [
    "print(result)"
   ]
  },
  {
   "cell_type": "code",
   "execution_count": null,
   "metadata": {},
   "outputs": [],
   "source": []
  }
 ],
 "metadata": {
  "kernelspec": {
   "display_name": "Python 3",
   "language": "python",
   "name": "python3"
  },
  "language_info": {
   "codemirror_mode": {
    "name": "ipython",
    "version": 3
   },
   "file_extension": ".py",
   "mimetype": "text/x-python",
   "name": "python",
   "nbconvert_exporter": "python",
   "pygments_lexer": "ipython3",
   "version": "3.11.9"
  }
 },
 "nbformat": 4,
 "nbformat_minor": 2
}
